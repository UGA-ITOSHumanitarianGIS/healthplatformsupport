{
 "cells": [
  {
   "cell_type": "code",
   "execution_count": 1,
   "id": "0198da10",
   "metadata": {},
   "outputs": [],
   "source": [
    "from ipyleaflet import Map, MagnifyingGlass, basemaps, basemap_to_tiles, VectorTileLayer"
   ]
  },
  {
   "cell_type": "code",
   "execution_count": 2,
   "id": "8b612232",
   "metadata": {},
   "outputs": [
    {
     "data": {
      "application/vnd.jupyter.widget-view+json": {
       "model_id": "0a39bbfeea2f4da98f97dbc8727ec29f",
       "version_major": 2,
       "version_minor": 0
      },
      "text/plain": [
       "Map(center=[0, 0], controls=(ZoomControl(options=['position', 'zoom_in_text', 'zoom_in_title', 'zoom_out_text'…"
      ]
     },
     "metadata": {},
     "output_type": "display_data"
    }
   ],
   "source": [
    "from ipyleaflet import Map, MagnifyingGlass, basemaps, basemap_to_tiles, VectorTileLayer\n",
    "m = Map(center=(0,0), zoom=2)\n",
    "\n",
    "topo_layer = basemap_to_tiles(basemaps.OpenTopoMap)\n",
    "magnifying_glass = MagnifyingGlass(layers=[topo_layer])\n",
    "url='https://s3.wasabisys.com/itos-humanitarian/v1/VectorTile/COD_MLI/Admin3/{z}/{x}/{y}.pbf'\n",
    "attribution = \"UN OCHA\"\n",
    "vector_tile_layer_styles={}\n",
    "v1 = VectorTileLayer(url=url)\n",
    "m.add_layer(magnifying_glass)\n",
    "m.add_layer(v1)\n",
    "m"
   ]
  },
  {
   "cell_type": "code",
   "execution_count": null,
   "id": "d69d4dae",
   "metadata": {},
   "outputs": [],
   "source": []
  }
 ],
 "metadata": {
  "kernelspec": {
   "display_name": "geo_env",
   "language": "python",
   "name": "geo_env"
  },
  "language_info": {
   "codemirror_mode": {
    "name": "ipython",
    "version": 3
   },
   "file_extension": ".py",
   "mimetype": "text/x-python",
   "name": "python",
   "nbconvert_exporter": "python",
   "pygments_lexer": "ipython3",
   "version": "3.10.1"
  }
 },
 "nbformat": 4,
 "nbformat_minor": 5
}
